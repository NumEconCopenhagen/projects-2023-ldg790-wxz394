{
 "cells": [
  {
   "cell_type": "markdown",
   "metadata": {},
   "source": [
    "# Inaugural Project"
   ]
  },
  {
   "attachments": {},
   "cell_type": "markdown",
   "metadata": {},
   "source": [
    "> **Note the following:** \n",
    "> 1. This is an example of how to structure your **inaugural project**.\n",
    "> 1. Remember the general advice on structuring and commenting your code\n",
    "> 1. The `inauguralproject.py` file includes a function which can be used multiple times in this notebook."
   ]
  },
  {
   "cell_type": "markdown",
   "metadata": {},
   "source": [
    "Imports and set magics:"
   ]
  },
  {
   "cell_type": "code",
   "execution_count": null,
   "metadata": {},
   "outputs": [],
   "source": [
    "import numpy as np\n",
    "import matplotlib.pyplot as plt\n",
    "\n",
    "from mpl_toolkits.mplot3d import Axes3D\n",
    "from matplotlib import cm\n",
    "\n",
    "from scipy import optimize, special\n",
    "\n",
    "# autoreload modules when code is run. Otherwise, python will not see recent changes. \n",
    "%load_ext autoreload\n",
    "%autoreload 2\n",
    "\n",
    "# Import your own code\n",
    "#import inauguralproject\n"
   ]
  },
  {
   "cell_type": "markdown",
   "metadata": {},
   "source": [
    "# Question 1"
   ]
  },
  {
   "cell_type": "markdown",
   "metadata": {},
   "source": [
    "**Explain how you solve the model**"
   ]
  },
  {
   "cell_type": "code",
   "execution_count": null,
   "metadata": {},
   "outputs": [],
   "source": [
    "\n",
    "import HouseholdSpecializationModel\n",
    "model = HouseholdSpecializationModel.HouseholdSpecializationModelClass()\n",
    "\n",
    "alpha_range = np.array([0.25, 0.50, 0.75])\n",
    "sigma_range = np.array([0.5, 1.0, 1.5])\n",
    "\n",
    "# create meshgrid of alpha and sigma values\n",
    "alpha, sigma = np.meshgrid(alpha_range, sigma_range)\n",
    "\n",
    "# calculate HF/HM ratio for each combination of alpha and sigma\n",
    "hf_hm_ratio = np.zeros_like(alpha)\n",
    "for i in range(alpha.shape[0]):\n",
    "    for j in range(alpha.shape[1]):\n",
    "        # set alpha and sigma values for model instance\n",
    "        model.par.alpha = alpha[i, j]\n",
    "        model.par.sigma = sigma[i, j]\n",
    "        # solve model and calculate HF/HM ratio\n",
    "        opt = model.solve_discrete()\n",
    "        hf_hm_ratio[i, j] = opt.HF / opt.HM\n",
    "\n",
    "# plot the surface\n",
    "\n",
    "fig = plt.figure(figsize=(10, 8))\n",
    "ax = fig.add_subplot(1,1,1,projection='3d')\n",
    "ax.plot_surface(alpha, sigma, hf_hm_ratio,cmap=cm.coolwarm,linewidth=0,antialiased=False)\n",
    "\n",
    "ax.set_xlabel('alpha')\n",
    "ax.set_ylabel('sigma')\n",
    "ax.set_zlabel('HF/HM ratio', rotation=90)\n",
    "\n",
    "ax.invert_xaxis()\n",
    "#show me the text on z axis\n",
    "#make the graph wider so i can see the text on the z-axis\n",
    "fig.set_size_inches(10, 8)\n",
    "ax.zaxis.labelpad=-0.7\n",
    "#make the graph wider\n",
    "#rotate the graph\n",
    "#ax.view_init(5, 88)\n",
    "\n",
    "\n"
   ]
  },
  {
   "cell_type": "code",
   "execution_count": null,
   "metadata": {},
   "outputs": [],
   "source": [
    "import numpy as np\n",
    "\n",
    "# define alpha and sigma ranges\n",
    "alpha_range = np.array([0.25, 0.50, 0.75])\n",
    "sigma_range = np.array([0.5, 1.0, 1.5])\n",
    "\n",
    "# create meshgrid of alpha and sigma values\n",
    "alpha, sigma = np.meshgrid(alpha_range, sigma_range)\n",
    "\n",
    "# calculate HF/HM ratio for each combination of alpha and sigma\n",
    "hf_hm_ratio = np.zeros_like(alpha)\n",
    "for i in range(alpha.shape[0]):\n",
    "    for j in range(alpha.shape[1]):\n",
    "        # set alpha and sigma values for model instance\n",
    "        model.par.alpha = alpha[i, j]\n",
    "        model.par.sigma = sigma[i, j]\n",
    "        # solve model and calculate HF/HM ratio\n",
    "        opt = model.solve_discrete()\n",
    "        hf_hm_ratio[i, j] = opt.HF / opt.HM\n",
    "\n",
    "# print table header\n",
    "print(\"| alpha | sigma | HF/HM ratio |\")\n",
    "print(\"|-------|-------|-------------|\")\n",
    "\n",
    "# print table rows\n",
    "for i in range(alpha_range.shape[0]):\n",
    "    for j in range(sigma_range.shape[0]):\n",
    "        print(\"|  {:.2f} |  {:.1f} |     {:.4f} |\".format(alpha[i, j], sigma[i, j], hf_hm_ratio[i, j]))\n"
   ]
  },
  {
   "cell_type": "markdown",
   "metadata": {},
   "source": [
    "# Question 2"
   ]
  },
  {
   "cell_type": "markdown",
   "metadata": {},
   "source": [
    "Explain your code and procedure"
   ]
  },
  {
   "cell_type": "code",
   "execution_count": null,
   "metadata": {},
   "outputs": [],
   "source": [
    "# solve for each wF value\n",
    "for i, wF in enumerate(model.par.wF_vec):\n",
    "    model.par.wF = wF\n",
    "    opt = model.solve_discrete()\n",
    "    model.sol.LM_vec[i] = opt.LM\n",
    "    model.sol.HM_vec[i] = opt.HM\n",
    "    model.sol.LF_vec[i] = opt.LF\n",
    "    model.sol.HF_vec[i] = opt.HF\n",
    "\n",
    "# calculate HF/HM\n",
    "HF_HM = model.sol.HF_vec / model.sol.HM_vec\n",
    "\n",
    "# plot log(HF/HM) against log(wF/wM)\n",
    "plt.plot(np.log(model.par.wF_vec/model.par.wM), np.log(HF_HM))\n",
    "plt.xlabel('log(wF/wM)')\n",
    "plt.ylabel('log(HF/HM)')\n",
    "plt.show()\n"
   ]
  },
  {
   "cell_type": "markdown",
   "metadata": {},
   "source": [
    "# Question 3"
   ]
  },
  {
   "cell_type": "markdown",
   "metadata": {},
   "source": [
    "Explain your code and procedure"
   ]
  },
  {
   "cell_type": "code",
   "execution_count": null,
   "metadata": {},
   "outputs": [],
   "source": [
    "import HouseholdSpecializationModel2\n",
    "model2 = HouseholdSpecializationModel2.HouseholdSpecializationModelClass2()\n",
    "\n",
    "# solve for each wF value\n",
    "for i, wF in enumerate(model2.par.wF_vec):\n",
    "    model2.par.wF = wF\n",
    "    opt = model2.solve_discrete()\n",
    "    model2.sol.LM_vec[i] = opt.LM\n",
    "    model2.sol.HM_vec[i] = opt.HM\n",
    "    model2.sol.LF_vec[i] = opt.LF\n",
    "    model2.sol.HF_vec[i] = opt.HF\n",
    "\n",
    "# calculate HF/HM\n",
    "HF_HM = model2.sol.HF_vec / model2.sol.HM_vec\n",
    "\n",
    "# plot log(HF/HM) against log(wF/wM)\n",
    "plt.plot(np.log(model2.par.wF_vec/model2.par.wM), np.log(HF_HM))\n",
    "plt.xlabel('log(wF/wM)')\n",
    "plt.ylabel('log(HF/HM)')\n",
    "plt.show()\n"
   ]
  },
  {
   "cell_type": "markdown",
   "metadata": {},
   "source": [
    "ADD CONCISE CONLUSION."
   ]
  },
  {
   "attachments": {},
   "cell_type": "markdown",
   "metadata": {},
   "source": [
    "# Question 4"
   ]
  },
  {
   "cell_type": "code",
   "execution_count": null,
   "metadata": {},
   "outputs": [],
   "source": [
    "def ssd(alpha, sigma, model):\n",
    "    \"\"\"Calculate sum of squared differences between model and regression coefficients\"\"\"\n",
    "    \n",
    "    # Set alpha and sigma\n",
    "    model.par.alpha = alpha\n",
    "    model.par.sigma = sigma\n",
    "    \n",
    "    # Solve model for vector of female wages\n",
    "    model.solve_wF_vec(discrete=True)\n",
    "    \n",
    "    # Run regression\n",
    "    model.run_regression()\n",
    "    \n",
    "    # Calculate sum of squared differences\n",
    "    ssd = (model.sol.beta0 - model.par.beta0_target)**2 + (model.sol.beta1 - model.par.beta1_target)**2\n",
    "    \n",
    "    return ssd\n",
    "\n"
   ]
  },
  {
   "cell_type": "code",
   "execution_count": null,
   "metadata": {},
   "outputs": [],
   "source": [
    "\n",
    "# Define function to minimize\n",
    "obj_func = lambda x: ssd(x[0], x[1], model)\n",
    "\n",
    "# Set initial guess\n",
    "x0 = [0.5, 1.0]\n",
    "\n",
    "# Minimize function\n",
    "res = optimize.minimize(obj_func, x0)\n",
    "\n",
    "# Extract optimal values of alpha and sigma\n",
    "alpha_hat = res.x[0]\n",
    "sigma_hat = res.x[1]\n"
   ]
  },
  {
   "cell_type": "code",
   "execution_count": 33,
   "metadata": {},
   "outputs": [
    {
     "name": "stdout",
     "output_type": "stream",
     "text": [
      "Optimal values:\n",
      "alpha = 0.40001156250946246\n",
      "sigma = 0.001\n"
     ]
    }
   ],
   "source": [
    "import numpy as np\n",
    "from scipy.optimize import minimize\n",
    "\n",
    "# Define the function to be minimized\n",
    "def objective(x):\n",
    "    beta0_hat = 0.4 - x[0]\n",
    "    beta1_hat = -0.1 - x[1]\n",
    "    return beta0_hat**2 + beta1_hat**2\n",
    "\n",
    "# Set the initial guess for alpha and sigma\n",
    "x0 = np.array([0.5, 0.5])\n",
    "\n",
    "# Define the bounds for alpha and sigma\n",
    "bounds = ((0.001, 0.999), (0.001, 0.999))\n",
    "\n",
    "# Use the Nelder-Mead method to minimize the objective function\n",
    "result = minimize(objective, x0, method='nelder-mead', bounds=bounds)\n",
    "\n",
    "# Print the optimal values of alpha and sigma\n",
    "print(\"Optimal values:\")\n",
    "print(\"alpha =\", result.x[0])\n",
    "print(\"sigma =\", result.x[1])"
   ]
  },
  {
   "cell_type": "code",
   "execution_count": 32,
   "metadata": {},
   "outputs": [
    {
     "ename": "TypeError",
     "evalue": "cannot unpack non-iterable NoneType object",
     "output_type": "error",
     "traceback": [
      "\u001b[1;31m---------------------------------------------------------------------------\u001b[0m",
      "\u001b[1;31mTypeError\u001b[0m                                 Traceback (most recent call last)",
      "\u001b[1;32m~\\AppData\\Local\\Temp\\ipykernel_12668\\1654370046.py\u001b[0m in \u001b[0;36m<module>\u001b[1;34m\u001b[0m\n\u001b[1;32m----> 1\u001b[1;33m \u001b[0malpha\u001b[0m\u001b[1;33m,\u001b[0m \u001b[0msigma\u001b[0m \u001b[1;33m=\u001b[0m \u001b[0mmodel\u001b[0m\u001b[1;33m.\u001b[0m\u001b[0mestimate\u001b[0m\u001b[1;33m(\u001b[0m\u001b[1;33m)\u001b[0m\u001b[1;33m\u001b[0m\u001b[1;33m\u001b[0m\u001b[0m\n\u001b[0m",
      "\u001b[1;31mTypeError\u001b[0m: cannot unpack non-iterable NoneType object"
     ]
    }
   ],
   "source": []
  }
 ],
 "metadata": {
  "kernelspec": {
   "display_name": "Python 3.9.16 ('base')",
   "language": "python",
   "name": "python3"
  },
  "language_info": {
   "codemirror_mode": {
    "name": "ipython",
    "version": 3
   },
   "file_extension": ".py",
   "mimetype": "text/x-python",
   "name": "python",
   "nbconvert_exporter": "python",
   "pygments_lexer": "ipython3",
   "version": "3.9.16"
  },
  "toc-autonumbering": true,
  "vscode": {
   "interpreter": {
    "hash": "8fdeb234ccc46d3c4c7693b1da3b4f6d270a92f13154eeaa3cdb26170e730063"
   }
  }
 },
 "nbformat": 4,
 "nbformat_minor": 4
}
